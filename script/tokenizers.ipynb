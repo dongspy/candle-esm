{
 "cells": [
  {
   "cell_type": "code",
   "execution_count": 1,
   "id": "31e394b8-2d39-416f-8e3f-d51e130feeef",
   "metadata": {},
   "outputs": [],
   "source": [
    "import torch"
   ]
  },
  {
   "cell_type": "code",
   "execution_count": 5,
   "id": "f0a9e1af-1b59-4080-ae01-02a1a8579c2e",
   "metadata": {},
   "outputs": [],
   "source": [
    "weight_file = \"/Users/pidong/Downloads/esm2_t6_8M_UR50D.pt\"\n",
    "dt = torch.load(weight_file)"
   ]
  },
  {
   "cell_type": "code",
   "execution_count": 13,
   "id": "b004bed4-5197-433d-9b7f-73416083c7c7",
   "metadata": {},
   "outputs": [
    {
     "data": {
      "text/plain": [
       "['encoder.sentence_encoder.embed_tokens.weight',\n",
       " 'encoder.sentence_encoder.layers.0.self_attn.k_proj.weight',\n",
       " 'encoder.sentence_encoder.layers.0.self_attn.k_proj.bias',\n",
       " 'encoder.sentence_encoder.layers.0.self_attn.v_proj.weight',\n",
       " 'encoder.sentence_encoder.layers.0.self_attn.v_proj.bias',\n",
       " 'encoder.sentence_encoder.layers.0.self_attn.q_proj.weight',\n",
       " 'encoder.sentence_encoder.layers.0.self_attn.q_proj.bias',\n",
       " 'encoder.sentence_encoder.layers.0.self_attn.out_proj.weight',\n",
       " 'encoder.sentence_encoder.layers.0.self_attn.out_proj.bias',\n",
       " 'encoder.sentence_encoder.layers.0.self_attn.rot_emb.inv_freq']"
      ]
     },
     "execution_count": 13,
     "metadata": {},
     "output_type": "execute_result"
    }
   ],
   "source": [
    "list(dt[\"model\"].keys())[:10]"
   ]
  },
  {
   "cell_type": "code",
   "execution_count": 10,
   "id": "1fded2e9-b6d3-4646-8a90-e5857db7f6e6",
   "metadata": {},
   "outputs": [],
   "source": [
    "candle_weight_file = \"/Users/pidong/learn/rust/candle-esm/data/esm2_t6_8M_UR50D/esm2_t6_8M_UR50D/pytorch_model.bin\"\n",
    "\n",
    "candle_dt = torch.load(candle_weight_file)"
   ]
  },
  {
   "cell_type": "code",
   "execution_count": 12,
   "id": "23514966-363b-424e-accf-618daaf8cd6f",
   "metadata": {},
   "outputs": [
    {
     "data": {
      "text/plain": [
       "['esm.embeddings.position_ids',\n",
       " 'esm.embeddings.word_embeddings.weight',\n",
       " 'esm.embeddings.position_embeddings.weight',\n",
       " 'esm.encoder.layer.0.attention.self.query.weight',\n",
       " 'esm.encoder.layer.0.attention.self.query.bias',\n",
       " 'esm.encoder.layer.0.attention.self.key.weight',\n",
       " 'esm.encoder.layer.0.attention.self.key.bias',\n",
       " 'esm.encoder.layer.0.attention.self.value.weight',\n",
       " 'esm.encoder.layer.0.attention.self.value.bias',\n",
       " 'esm.encoder.layer.0.attention.self.rotary_embeddings.inv_freq']"
      ]
     },
     "execution_count": 12,
     "metadata": {},
     "output_type": "execute_result"
    }
   ],
   "source": [
    "list(candle_dt.keys())[:10]"
   ]
  },
  {
   "cell_type": "code",
   "execution_count": null,
   "id": "5c188f13-0d18-4994-b892-8791b2fa10d7",
   "metadata": {},
   "outputs": [],
   "source": []
  }
 ],
 "metadata": {
  "kernelspec": {
   "display_name": "Python 3 (ipykernel)",
   "language": "python",
   "name": "python3"
  },
  "language_info": {
   "codemirror_mode": {
    "name": "ipython",
    "version": 3
   },
   "file_extension": ".py",
   "mimetype": "text/x-python",
   "name": "python",
   "nbconvert_exporter": "python",
   "pygments_lexer": "ipython3",
   "version": "3.11.5"
  }
 },
 "nbformat": 4,
 "nbformat_minor": 5
}
